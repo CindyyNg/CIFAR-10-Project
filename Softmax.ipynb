{
 "cells": [
  {
   "cell_type": "code",
   "execution_count": 1,
   "metadata": {},
   "outputs": [],
   "source": [
    "import torch\n",
    "import torchvision\n",
    "from torch.utils.data import DataLoader\n",
    "from torchvision import datasets, transforms\n",
    "from torchvision.transforms import ToTensor, Compose\n",
    "import matplotlib.pyplot as plt\n",
    "import numpy as np"
   ]
  },
  {
   "cell_type": "code",
   "execution_count": 2,
   "metadata": {},
   "outputs": [],
   "source": [
    "def load_CIFAR10():\n",
    "    train_dataset = datasets.CIFAR10(root='data/', download=True, train=True, transform=ToTensor())\n",
    "    test_dataset = datasets.CIFAR10(root='data/', download=True, train=False, transform=ToTensor())\n",
    "\n",
    "    np.set_printoptions(threshold=np.inf)\n",
    "\n",
    "    X_train = train_dataset.data\n",
    "    X_test = test_dataset.data\n",
    "\n",
    "    y_train = np.array(train_dataset.targets)\n",
    "    y_test = np.array(test_dataset.targets)\n",
    "\n",
    "    X_train = X_train.reshape(50000, 32 * 32 * 3)\n",
    "    X_test = X_test.reshape(10000, 32 * 32 * 3)\n",
    "    \n",
    "    '''\n",
    "    X_train = X_train[:1000]\n",
    "    X_test = X_test[:500]\n",
    "\n",
    "    y_train = y_train[:1000]\n",
    "    y_test = y_test[:500]\n",
    "    '''\n",
    "    \n",
    "    X_train = X_train.astype(\"float\")\n",
    "    X_test = X_test.astype(\"float\")\n",
    "\n",
    "    return X_train, y_train, X_test, y_test"
   ]
  },
  {
   "cell_type": "code",
   "execution_count": 3,
   "metadata": {},
   "outputs": [],
   "source": [
    "def softmax(f, X_train):\n",
    "    '''\n",
    "    -input: a vector of class scores\n",
    "    -output: probability vector (non-negative, sums to 1)\n",
    "    '''\n",
    "    num_train = X_train.shape[0]\n",
    "    # consider the numeric stability\n",
    "    # find the largest score and subtract all scores by it in case exponential explosion\n",
    "  \n",
    "    #f_max = np.reshape(np.max(f, axis=1), (num_train, 1)) \n",
    "    f_max = np.max(f, axis=1, keepdims=True)    \n",
    "    prob = np.exp(f - f_max) / np.sum(np.exp(f - f_max), axis=1, keepdims=True)\n",
    "    return prob"
   ]
  },
  {
   "cell_type": "code",
   "execution_count": 4,
   "metadata": {},
   "outputs": [],
   "source": [
    "def softmax_loss(W, b, X_train, y_train, reg):\n",
    "    # initialization\n",
    "    \n",
    "    num_train = X_train.shape[0]\n",
    "    num_feature = W.shape[0]\n",
    "    num_class = W.shape[1]\n",
    "    \n",
    "    dW = np.zeros(W.shape)\n",
    "    db = np.zeros(b.shape)\n",
    "    loss = 0.0\n",
    "    \n",
    "    f_scores = X_train.dot(W) + b    # X * W, shape(num_train, num_class)    \n",
    "    softmax_output = softmax(f_scores, X_train) # shape(num_train, num_class)\n",
    "    \n",
    "    real_classes = np.zeros(softmax_output.shape)\n",
    "    real_classes[range(num_train), y_train] = 1.0   # shape(num_train, num_class)\n",
    "    \n",
    "    # calulate the loss\n",
    "    loss += -np.sum(real_classes * np.log(softmax_output)) / num_train\n",
    "    \n",
    "    # calculate the gradient descent\n",
    "    dW += -np.dot(X_train.T, real_classes - softmax_output) / num_train\n",
    "    \n",
    "    db += np.sum((real_classes - softmax_output),axis=0,keepdims=True) / num_train\n",
    "    return loss, dW, db"
   ]
  },
  {
   "cell_type": "code",
   "execution_count": 5,
   "metadata": {},
   "outputs": [],
   "source": [
    "def train(W, b, X_train, y_train, lr, reg, num_iters, batch_size):\n",
    "    # initialization\n",
    "    num_train = X_train.shape[0]\n",
    "    num_feature = W.shape[0]\n",
    "    \n",
    "    for i in range(num_iters):\n",
    "        \n",
    "        X_batch = np.zeros((batch_size, num_feature))\n",
    "        y_batch = np.zeros((batch_size))\n",
    "        # randomly choose batch_size samples from X_train without repeatment\n",
    "        idx_batch = np.random.choice(num_train,batch_size,replace=False)\n",
    "        X_batch = X_train[idx_batch]\n",
    "        y_batch = y_train[idx_batch]\n",
    "        \n",
    "        # get the loss and gradient\n",
    "        loss, gradient, bias = softmax_loss(W, b, X_batch, y_batch, reg)\n",
    "        \n",
    "        #loss, gradient, bias = softmax_loss(W, b, X_train, y_train, reg)\n",
    "        \n",
    "        # grandient descent\n",
    "        W -= gradient * lr\n",
    "        b -= bias * lr\n",
    "    return W,b\n",
    "\n",
    "def predict_accuracy(W, b, X, y):\n",
    "    num_train = X.shape[0]    \n",
    "    scores = X.dot(W) + b\n",
    "    \n",
    "    y_prediction = np.zeros(num_train)\n",
    "    y_prediction = np.argmax(scores, axis=1)\n",
    "    \n",
    "    accuracy = np.mean(y_prediction == y)\n",
    "    return accuracy\n"
   ]
  },
  {
   "cell_type": "code",
   "execution_count": 15,
   "metadata": {},
   "outputs": [],
   "source": [
    "def lr_schedule(X_train, y_train, lrs):   \n",
    "    num_feature = X_train.shape[1]\n",
    "    num_class = 10\n",
    "    \n",
    "    best_val = -1\n",
    "    best_lr = 0.0   \n",
    "    reg = 1e4\n",
    "    accuracys = []  \n",
    "\n",
    "    for lr in lrs:   \n",
    "        W = 0.001 * np.random.randn(num_feature, num_class)\n",
    "        b = 0.001 * np.random.randn(1, num_class)\n",
    "        \n",
    "        # train the data and get the updated W\n",
    "        W,b = train(W, b, X_train, y_train, lr, reg, num_iters=3000, batch_size=200)\n",
    "        train_accuracy = predict_accuracy(W, b, X_train, y_train)\n",
    "        accuracys.append(train_accuracy)\n",
    "        \n",
    "        if(train_accuracy > best_val):\n",
    "            best_val = train_accuracy\n",
    "            best_lr = lr\n",
    "            best_W = W\n",
    "            best_b = b\n",
    "            \n",
    "        print(\"lr =\", lr)\n",
    "        print(\"the accuracy of training dataset is\", train_accuracy)\n",
    "        print('\\n' + \"-------------------------------------------------------\" + '\\n')\n",
    "    \n",
    "    plt.plot(lrs, accuracys)\n",
    "    plt.ylabel('Accuracy of train dataset')\n",
    "    plt.xlabel('learning rates')\n",
    "    plt.title(\"accuracy on learning rate\")\n",
    "    plt.show()\n",
    "    \n",
    "    print(\"The best learning rate with highest training accuracy is\", best_lr)\n",
    "    print('\\n' + \"-------------------------------------------------------\" + '\\n')\n",
    "    return best_lr, best_W, best_b"
   ]
  },
  {
   "cell_type": "code",
   "execution_count": 11,
   "metadata": {},
   "outputs": [
    {
     "name": "stdout",
     "output_type": "stream",
     "text": [
      "Files already downloaded and verified\n",
      "Files already downloaded and verified\n"
     ]
    }
   ],
   "source": [
    "X_train, y_train, X_test, y_test = load_CIFAR10()"
   ]
  },
  {
   "cell_type": "code",
   "execution_count": 18,
   "metadata": {},
   "outputs": [
    {
     "name": "stdout",
     "output_type": "stream",
     "text": [
      "lr = 1e-07\n",
      "the accuracy of training dataset is 0.27008\n",
      "\n",
      "-------------------------------------------------------\n",
      "\n",
      "lr = 2e-07\n",
      "the accuracy of training dataset is 0.30114\n",
      "\n",
      "-------------------------------------------------------\n",
      "\n",
      "lr = 3e-07\n",
      "the accuracy of training dataset is 0.32024\n",
      "\n",
      "-------------------------------------------------------\n",
      "\n",
      "lr = 4e-07\n",
      "the accuracy of training dataset is 0.324\n",
      "\n",
      "-------------------------------------------------------\n",
      "\n",
      "lr = 5e-07\n",
      "the accuracy of training dataset is 0.31952\n",
      "\n",
      "-------------------------------------------------------\n",
      "\n",
      "lr = 6e-07\n",
      "the accuracy of training dataset is 0.34028\n",
      "\n",
      "-------------------------------------------------------\n",
      "\n",
      "lr = 7e-07\n",
      "the accuracy of training dataset is 0.31044\n",
      "\n",
      "-------------------------------------------------------\n",
      "\n",
      "lr = 8e-07\n",
      "the accuracy of training dataset is 0.30164\n",
      "\n",
      "-------------------------------------------------------\n",
      "\n",
      "lr = 9e-07\n",
      "the accuracy of training dataset is 0.2587\n",
      "\n",
      "-------------------------------------------------------\n",
      "\n",
      "lr = 1e-06\n",
      "the accuracy of training dataset is 0.24324\n",
      "\n",
      "-------------------------------------------------------\n",
      "\n"
     ]
    },
    {
     "data": {
      "image/png": "[encoded data removed]",
      "text/plain": [
       "<Figure size 432x288 with 1 Axes>"
      ]
     },
     "metadata": {
      "needs_background": "light"
     },
     "output_type": "display_data"
    },
    {
     "name": "stdout",
     "output_type": "stream",
     "text": [
      "The best learning rate with highest training accuracy is 6e-07\n",
      "\n",
      "-------------------------------------------------------\n",
      "\n",
      "By using the best lr, the test accuracy is 0.3326\n"
     ]
    }
   ],
   "source": [
    "lrs = [1e-7,2e-7,3e-7,4e-7,5e-7,6e-7,7e-7,8e-7,9e-7,1e-6]\n",
    "best_lr, W, b = lr_schedule(X_train, y_train, lrs)\n",
    "test_accuracy = predict_accuracy(W, b, X_test, y_test)\n",
    "\n",
    "print(\"By using the best lr, the test accuracy is\", test_accuracy)"
   ]
  },
  {
   "cell_type": "code",
   "execution_count": null,
   "metadata": {},
   "outputs": [],
   "source": []
  }
 ],
 "metadata": {
  "kernelspec": {
   "display_name": "Python 3",
   "language": "python",
   "name": "python3"
  },
  "language_info": {
   "codemirror_mode": {
    "name": "ipython",
    "version": 3
   },
   "file_extension": ".py",
   "mimetype": "text/x-python",
   "name": "python",
   "nbconvert_exporter": "python",
   "pygments_lexer": "ipython3",
   "version": "3.6.10"
  }
 },
 "nbformat": 4,
 "nbformat_minor": 5
}
