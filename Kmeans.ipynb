{
 "cells": [
  {
   "cell_type": "code",
   "execution_count": 1,
   "id": "b723eeda",
   "metadata": {},
   "outputs": [],
   "source": [
    "import torch\n",
    "import torchvision\n",
    "from torch.utils.data import DataLoader\n",
    "from torchvision import datasets, transforms\n",
    "from torchvision.transforms import ToTensor, Compose\n",
    "import matplotlib.pyplot as plt\n",
    "import numpy as np"
   ]
  },
  {
   "cell_type": "code",
   "execution_count": 2,
   "id": "0e1e3b5d",
   "metadata": {},
   "outputs": [],
   "source": [
    "def load_CIFAR10():\n",
    "    train_dataset = datasets.CIFAR10(root='data/', download=True, train=True, transform=ToTensor())\n",
    "    test_dataset = datasets.CIFAR10(root='data/', download=True, train=False, transform=ToTensor())\n",
    "\n",
    "    np.set_printoptions(threshold=np.inf)\n",
    "\n",
    "    X_train = train_dataset.data\n",
    "    X_test = test_dataset.data\n",
    "\n",
    "    y_train = np.array(train_dataset.targets)\n",
    "    y_test = np.array(test_dataset.targets)\n",
    "\n",
    "    X_train = X_train.reshape(50000, 32 * 32 * 3)\n",
    "    X_test = X_test.reshape(10000, 32 * 32 * 3)\n",
    "    \n",
    "    '''\n",
    "    X_train = X_train[:10000]\n",
    "    X_test = X_test[:1000]\n",
    "\n",
    "    y_train = y_train[:10000]\n",
    "    y_test = y_test[:1000]\n",
    "    '''\n",
    "    \n",
    "    X_train = X_train.astype(\"float\")\n",
    "    X_test = X_test.astype(\"float\")\n",
    "\n",
    "    return X_train, y_train, X_test, y_test\n"
   ]
  },
  {
   "cell_type": "code",
   "execution_count": 3,
   "id": "3ad56f0b",
   "metadata": {},
   "outputs": [],
   "source": [
    "def distance(data_set, cores, k):\n",
    "    distances = np.zeros((data_set.shape[0], k))\n",
    "\n",
    "    d1 = np.multiply(np.dot(data_set, cores.T), -2)\n",
    "    d2 = np.sum(np.square(cores.T), axis=0, keepdims=True)\n",
    "    d3 = np.sum(np.square(data_set), axis=1, keepdims=True)\n",
    "\n",
    "    distances = np.sqrt(d1 + d2 + d3)\n",
    "    return distances"
   ]
  },
  {
   "cell_type": "code",
   "execution_count": 4,
   "id": "15f58cc6",
   "metadata": {},
   "outputs": [],
   "source": [
    "def k_means(X_train, y_train, k):\n",
    "    # m = the number of train set\n",
    "    # n = the number of all pixels of the image in train set\n",
    "    m, n = X_train.shape\n",
    "\n",
    "    # Clustering results for m samples,\n",
    "    # each of which corresponds to a clustering ordinal number\n",
    "    result = np.empty(m, dtype=np.int32)\n",
    "\n",
    "    # Random initialization of k centroids\n",
    "    cores = X_train[np.random.choice(np.arange(m), k, replace=False)]\n",
    "\n",
    "    # k labels corresponding to the K clusters\n",
    "    label_of_clusters = np.empty(k, dtype=np.int32)\n",
    "\n",
    "    while True:\n",
    "        distances = distance(X_train, cores, k)\n",
    "\n",
    "        # The nearest centroid index ordinal number for each sample\n",
    "        index_min = np.argmin(distances, axis=1)\n",
    "\n",
    "        # If the sample clustering does not change, return cluster centroid data and cluster labels\n",
    "        if (index_min == result).all():\n",
    "            for i in range(k):\n",
    "                label_of_clusters[i] = np.argmax(np.bincount(y_train[result == i]))\n",
    "            break\n",
    "            \n",
    "        # Reclassify\n",
    "        result[:] = index_min\n",
    "        # Traverse the centroid set\n",
    "        for i in range(k):\n",
    "            # Find the subset corresponding to the current centroid\n",
    "            items = X_train[result == i]\n",
    "            # Takes the mean of the subset as the position of the current centroid\n",
    "            cores[i] = np.mean(items, axis=0)\n",
    "\n",
    "    return cores, label_of_clusters"
   ]
  },
  {
   "cell_type": "code",
   "execution_count": 5,
   "id": "20d217d9",
   "metadata": {},
   "outputs": [],
   "source": [
    "def predict(X_test, cores, label_of_clusters):\n",
    "    k = label_of_clusters.shape[0]\n",
    "    m, n = X_test.shape\n",
    "    # m predictive labels for test samples\n",
    "    prediction = np.zeros(m)\n",
    "\n",
    "    distances = distance(X_test, cores, k)\n",
    "\n",
    "    # The nearest centroid index ordinal number for each sample\n",
    "    index_min = np.argmin(distances, axis=1)\n",
    "    prediction = label_of_clusters[index_min]\n",
    "\n",
    "    return prediction"
   ]
  },
  {
   "cell_type": "code",
   "execution_count": 6,
   "id": "8d05849f",
   "metadata": {},
   "outputs": [],
   "source": [
    "def calculate_accuracy(y_test, prediction, verbose=False):\n",
    "    num_test = y_test.shape[0]\n",
    "    num_correct = np.sum(prediction == y_test)\n",
    "    accuracy = num_correct / num_test\n",
    "    if verbose:\n",
    "        print('Correct %d/%d: The test accuracy: %f' % (num_correct, num_test, accuracy))\n",
    "    return accuracy"
   ]
  },
  {
   "cell_type": "code",
   "execution_count": 7,
   "id": "4af9ca84",
   "metadata": {},
   "outputs": [],
   "source": [
    "def cross_validation(X_train, y_train, k_set):\n",
    "    print(\"-------------------cross validation starts-------------------\")\n",
    "    num_folds = 5    # k-fold value = 5\n",
    "    \n",
    "    best_accuracy = -1\n",
    "    best_k = 0\n",
    "    \n",
    "    # divide both X_train and y_train into 5 parts, \n",
    "    # 4 of them are train set and the left one is the test set\n",
    "    X_train_folds = np.array_split(X_train, num_folds)\n",
    "    y_train_folds = np.array_split(y_train, num_folds)\n",
    "\n",
    "    accuracys = np.zeros(len(k_set), dtype=np.float64)\n",
    "    \n",
    "    # Take 4 of them for training, 1 of them for verification by using loop\n",
    "    for i in range(num_folds):\n",
    "        X_tr = np.reshape(np.array(X_train_folds[:i] + X_train_folds[i + 1:]),\n",
    "                          (int(X_train.shape[0] * (num_folds - 1) / num_folds), -1))\n",
    "        y_tr = np.reshape(y_train_folds[:i] + y_train_folds[i + 1:],\n",
    "                          int(y_train.shape[0] * (num_folds - 1) / num_folds))\n",
    "        X_te = X_train_folds[i]\n",
    "        y_te = y_train_folds[i]\n",
    "\n",
    "        for j in range(len(k_set)):\n",
    "            cores, label_of_clusters = k_means(X_tr, y_tr, k_set[j])\n",
    "            y_prediction = predict(X_te, cores, label_of_clusters)\n",
    "            accuracys[j] += calculate_accuracy(y_te, y_prediction, verbose=False)\n",
    "            \n",
    "            if(accuracys[j] > best_accuracy):\n",
    "                best_accuracy = accuracys[j]\n",
    "                best_k = k_set[j]\n",
    "                \n",
    "    accuracys /= num_folds\n",
    "    for j in range(len(k_set)):\n",
    "        print(\"k =\", k_set[j])\n",
    "        print(\"the average accuracy of %d train folds is %f\" % (num_folds, accuracys[j]))\n",
    "        print('\\n' + \"-------------------------------------------------------\" + '\\n')\n",
    "    plt.plot(k_set, accuracys)\n",
    "    plt.ylabel('average accuracy')\n",
    "    plt.xlabel('k')\n",
    "    plt.title(\"cross-validation on k\")\n",
    "    plt.show()\n",
    "    \n",
    "    print(\"The best k with highest average accuracy is\", best_k)\n",
    "    print()\n",
    "    return best_k"
   ]
  },
  {
   "cell_type": "code",
   "execution_count": 8,
   "id": "a98ecd7a",
   "metadata": {},
   "outputs": [],
   "source": [
    "def test_data_validation(X_test, y_test, X_train, y_train, k):\n",
    "    print(\"-------------------test data validation starts-------------------\")\n",
    "\n",
    "    print()\n",
    "    print(\"The best k we get from the cross validation is\", k)\n",
    "    \n",
    "    cores, label_of_clusters = k_means(X_train, y_train, k)\n",
    "    y_prediction = predict(X_test, cores, label_of_clusters)\n",
    "    accuracy = calculate_accuracy(y_test, y_prediction, verbose=True)\n"
   ]
  },
  {
   "cell_type": "code",
   "execution_count": 9,
   "id": "ac0dee0f",
   "metadata": {},
   "outputs": [
    {
     "name": "stdout",
     "output_type": "stream",
     "text": [
      "Files already downloaded and verified\n",
      "Files already downloaded and verified\n",
      "-------------------cross validation starts-------------------\n",
      "k = 3\n",
      "the average accuracy of 5 train folds is 0.176840\n",
      "\n",
      "-------------------------------------------------------\n",
      "\n",
      "k = 5\n",
      "the average accuracy of 5 train folds is 0.188020\n",
      "\n",
      "-------------------------------------------------------\n",
      "\n",
      "k = 7\n",
      "the average accuracy of 5 train folds is 0.195000\n",
      "\n",
      "-------------------------------------------------------\n",
      "\n",
      "k = 11\n",
      "the average accuracy of 5 train folds is 0.234540\n",
      "\n",
      "-------------------------------------------------------\n",
      "\n"
     ]
    },
    {
     "data": {
      "image/png": "[encoded data removed]",
      "text/plain": [
       "<Figure size 432x288 with 1 Axes>"
      ]
     },
     "metadata": {
      "needs_background": "light"
     },
     "output_type": "display_data"
    },
    {
     "name": "stdout",
     "output_type": "stream",
     "text": [
      "The best k with highest average accuracy is 11\n",
      "\n",
      "-------------------test data validation starts-------------------\n",
      "\n",
      "The best k we get from the cross validation is 11\n",
      "Correct 2224/10000: The test accuracy: 0.222400\n"
     ]
    }
   ],
   "source": [
    "X_train, y_train, X_test, y_test = load_CIFAR10()\n",
    "k_set = [3, 5, 7, 11]\n",
    "best_k = cross_validation(X_train, y_train, k_set)\n",
    "test_data_validation(X_test, y_test, X_train, y_train, best_k)"
   ]
  }
 ],
 "metadata": {
  "kernelspec": {
   "display_name": "Python 3",
   "language": "python",
   "name": "python3"
  },
  "language_info": {
   "codemirror_mode": {
    "name": "ipython",
    "version": 3
   },
   "file_extension": ".py",
   "mimetype": "text/x-python",
   "name": "python",
   "nbconvert_exporter": "python",
   "pygments_lexer": "ipython3",
   "version": "3.8.8"
  }
 },
 "nbformat": 4,
 "nbformat_minor": 5
}
