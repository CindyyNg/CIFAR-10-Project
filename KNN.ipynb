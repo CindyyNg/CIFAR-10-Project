{
 "cells": [
  {
   "cell_type": "code",
   "execution_count": 10,
   "id": "dd308391",
   "metadata": {},
   "outputs": [],
   "source": [
    "import torch\n",
    "import torchvision\n",
    "from torch.utils.data import DataLoader\n",
    "from torchvision import datasets, transforms\n",
    "from torchvision.transforms import ToTensor, Compose\n",
    "import matplotlib.pyplot as plt\n",
    "import numpy as np"
   ]
  },
  {
   "cell_type": "code",
   "execution_count": 33,
   "id": "66cae7c4",
   "metadata": {},
   "outputs": [],
   "source": [
    "def load_CIFAR10():\n",
    "    train_dataset = datasets.CIFAR10(root='data/', download=True, train=True, transform=ToTensor())\n",
    "    test_dataset = datasets.CIFAR10(root='data/', download=True, train=False, transform=ToTensor())\n",
    "\n",
    "    np.set_printoptions(threshold=np.inf)\n",
    "\n",
    "    X_train = train_dataset.data\n",
    "    X_test = test_dataset.data\n",
    "\n",
    "    y_train = np.array(train_dataset.targets)\n",
    "    y_test = np.array(test_dataset.targets)\n",
    "\n",
    "    # X_train = np.reshape(X_train, (X_train.shape[0], -1)).T\n",
    "    # X_test = np.reshape(X_test, (X_test.shape[0], -1)).T\n",
    "\n",
    "    X_train = X_train.reshape((50000, 32 * 32 * 3)).T\n",
    "    X_test = X_test.reshape((10000, 32 * 32 * 3)).T\n",
    "\n",
    "    y_train = y_train.reshape(1, -1)\n",
    "    y_test = y_test.reshape(1, -1)\n",
    "\n",
    "    #X_train = X_train[:, :10000]\n",
    "    #X_test = X_test[:, :1000]\n",
    "\n",
    "    #y_train = y_train[:10000].reshape(1, -1)\n",
    "    #y_test = y_test[:1000].reshape(1, -1)\n",
    "\n",
    "    X_train = X_train.astype(\"float\")\n",
    "    X_test = X_test.astype(\"float\")\n",
    "\n",
    "    return X_train, y_train, X_test, y_test\n"
   ]
  },
  {
   "cell_type": "code",
   "execution_count": 34,
   "id": "315967c3",
   "metadata": {},
   "outputs": [],
   "source": [
    "def sorted_distance(X_train, X_test):\n",
    "    distances = np.zeros((X_test.shape[1], X_train.shape[1]))\n",
    "\n",
    "    # (X_test - X_train)*(X_test - X_train) = -2X_test*X_train + X_test*X_test + X_train*X_train\n",
    "    scalar = -2\n",
    "    d1 = np.multiply(np.dot(X_test.T, X_train), scalar)  # -2 * X_test * X_train\n",
    "    d2 = np.sum(np.square(X_train), axis=0, keepdims=True)  # X_train * X_train\n",
    "    d3 = np.sum(np.square(X_test.T), axis=1, keepdims=True)  # X_test * X_test\n",
    "\n",
    "    distances = np.sqrt(d1 + d2 + d3)\n",
    "\n",
    "    for i in range(X_test.shape[1]):  # sort the distances row by row\n",
    "        distances[i] = np.argsort(distances[i])\n",
    "\n",
    "    return distances\n"
   ]
  },
  {
   "cell_type": "code",
   "execution_count": 35,
   "id": "1ddaaa46",
   "metadata": {},
   "outputs": [],
   "source": [
    "def predict(X_test, X_train, Y_train, k, distances):\n",
    "    Y_prediction = np.zeros(X_test.shape[1])\n",
    "\n",
    "    for i in range(X_test.shape[1]):\n",
    "        nearest_k = distances[i][:k]  # select k points which have the nearest distance\n",
    "        nearest_k = nearest_k.astype(np.int64)\n",
    "\n",
    "        classes_of_k = Y_train[0, nearest_k]  # find the classes of each k points\n",
    "        Y_prediction[i] = np.argmax(np.bincount(classes_of_k))  # return the class with highest frequency\n",
    "\n",
    "    return Y_prediction"
   ]
  },
  {
   "cell_type": "code",
   "execution_count": 36,
   "id": "a745e2a9",
   "metadata": {},
   "outputs": [],
   "source": [
    "def knn(X_test, Y_test, X_train, Y_train, k, distances, verbose=False):\n",
    "    numOftest = Y_test.shape[1]\n",
    "\n",
    "    Y_prediction = predict(X_test, X_train, Y_train, k, distances)\n",
    "    num_correct = np.sum(Y_prediction == Y_test)\n",
    "    accuracy = num_correct / numOftest\n",
    "\n",
    "    if verbose:\n",
    "        print('Correct %d/%d: The test accuracy of best k is: %f' % (num_correct, numOftest, accuracy))\n",
    "    return accuracy"
   ]
  },
  {
   "cell_type": "code",
   "execution_count": 37,
   "id": "071bb5c2",
   "metadata": {},
   "outputs": [],
   "source": [
    "def cross_validation(X_train, y_train, k_set):\n",
    "    print(\"-------------------cross validation starts-------------------\")\n",
    "    num_folds = 5    # k-fold value = 5\n",
    "    best_accuracy = -1\n",
    "    best_k = 0\n",
    "    \n",
    "    # divide both X_train and y_train into 5 parts, \n",
    "    # 4 of them are train set and the left one is the test set\n",
    "    X_train_folds = np.array_split(X_train.T, num_folds)\n",
    "    y_train_folds = np.array_split(y_train.T, num_folds)\n",
    "\n",
    "    accuracys = np.zeros(len(k_set), dtype=np.float64)\n",
    "    \n",
    "    # Take 4 of them for training, 1 of them for verification by using loop\n",
    "    for i in range(num_folds):\n",
    "        X_tr = np.reshape(np.array(X_train_folds[:i] + X_train_folds[i + 1:]),\n",
    "                          (int(X_train.shape[1] * (num_folds - 1) / num_folds), -1))\n",
    "        y_tr = np.reshape(y_train_folds[:i] + y_train_folds[i + 1:],\n",
    "                          (int(y_train.shape[1] * (num_folds - 1) / num_folds), -1))\n",
    "        X_te = X_train_folds[i]\n",
    "        y_te = y_train_folds[i]\n",
    "\n",
    "        distances = sorted_distance(X_tr.T, X_te.T)\n",
    "\n",
    "        for j in range(len(k_set)):\n",
    "            accuracys[j] += knn(X_te.T, y_te.T, X_tr.T, y_tr.T, k_set[j], distances, verbose=False)\n",
    "            # find the best k\n",
    "            if(accuracys[j] > best_accuracy):\n",
    "                best_accuracy = accuracys[j]\n",
    "                best_k = k_set[j]\n",
    "    # Take the average of all 5 verification results as the accuracy\n",
    "    accuracys /= num_folds\n",
    "    \n",
    "    \n",
    "    for j in range(len(k_set)):\n",
    "        print(\"k =\", k_set[j])\n",
    "        print(\"the average accuracy of %d train folds is %f\" % (num_folds, accuracys[j]))\n",
    "        print('\\n' + \"-------------------------------------------------------\" + '\\n')\n",
    "      \n",
    "    # plot the image to show the relationship between k and average accuracy\n",
    "    plt.plot(k_set, accuracys)\n",
    "    plt.ylabel('average accuracy')\n",
    "    plt.xlabel('k')\n",
    "    plt.title(\"cross validation on k\")\n",
    "    plt.show()\n",
    "    print(\"The best k with highest average accuracy is\", best_k)\n",
    "    return best_k"
   ]
  },
  {
   "cell_type": "code",
   "execution_count": 38,
   "id": "bfebbc11",
   "metadata": {},
   "outputs": [],
   "source": [
    "def test_data_validation(X_test, y_test, X_train, y_train, k):\n",
    "    print(\"\\n-------------------test data validation starts-------------------\")\n",
    "\n",
    "    # Get the sorted_distance, avoid redundant calculation\n",
    "    distances = sorted_distance(X_train, X_test)\n",
    "    print()\n",
    "    print(\"The best k we get from the cross validation is\", k)\n",
    "    accuracy = knn(X_test, y_test, X_train, y_train, k, distances, verbose=True)"
   ]
  },
  {
   "cell_type": "code",
   "execution_count": 39,
   "id": "bf12ff8e",
   "metadata": {},
   "outputs": [
    {
     "name": "stdout",
     "output_type": "stream",
     "text": [
      "Files already downloaded and verified\n",
      "Files already downloaded and verified\n",
      "-------------------cross validation starts-------------------\n",
      "k = 3\n",
      "the average accuracy of 5 train folds is 0.324620\n",
      "\n",
      "-------------------------------------------------------\n",
      "\n",
      "k = 5\n",
      "the average accuracy of 5 train folds is 0.332120\n",
      "\n",
      "-------------------------------------------------------\n",
      "\n",
      "k = 7\n",
      "the average accuracy of 5 train folds is 0.332660\n",
      "\n",
      "-------------------------------------------------------\n",
      "\n",
      "k = 11\n",
      "the average accuracy of 5 train folds is 0.329400\n",
      "\n",
      "-------------------------------------------------------\n",
      "\n"
     ]
    },
    {
     "data": {
      "image/png": "[encoded data removed]",
      "text/plain": [
       "<Figure size 432x288 with 1 Axes>"
      ]
     },
     "metadata": {
      "needs_background": "light"
     },
     "output_type": "display_data"
    },
    {
     "name": "stdout",
     "output_type": "stream",
     "text": [
      "The best k with highest average accuracy is 7\n",
      "\n",
      "-------------------test data validation starts-------------------\n",
      "\n",
      "The best k we get from the cross validation is 7\n",
      "Correct 3358/10000: The test accuracy of best k is: 0.335800\n"
     ]
    }
   ],
   "source": [
    "X_train, y_train, X_test, y_test = load_CIFAR10()\n",
    "k_set = [3, 5, 7, 11]\n",
    "\n",
    "best_k = cross_validation(X_train, y_train, k_set)\n",
    "test_data_validation(X_test, y_test, X_train, y_train, best_k)"
   ]
  },
  {
   "cell_type": "code",
   "execution_count": null,
   "id": "dd76a0ce",
   "metadata": {},
   "outputs": [],
   "source": []
  }
 ],
 "metadata": {
  "kernelspec": {
   "display_name": "Python 3",
   "language": "python",
   "name": "python3"
  },
  "language_info": {
   "codemirror_mode": {
    "name": "ipython",
    "version": 3
   },
   "file_extension": ".py",
   "mimetype": "text/x-python",
   "name": "python",
   "nbconvert_exporter": "python",
   "pygments_lexer": "ipython3",
   "version": "3.8.8"
  }
 },
 "nbformat": 4,
 "nbformat_minor": 5
}
